{
 "cells": [
  {
   "metadata": {},
   "cell_type": "markdown",
   "source": "# 导包",
   "id": "e377002874063eb7"
  },
  {
   "cell_type": "code",
   "id": "initial_id",
   "metadata": {
    "collapsed": true,
    "ExecuteTime": {
     "end_time": "2025-10-06T08:06:58.505851Z",
     "start_time": "2025-10-06T08:06:58.501600Z"
    }
   },
   "source": [
    "import os.path as osp\n",
    "\n",
    "import torch\n",
    "from sklearn.metrics import roc_auc_score\n",
    "\n",
    "import torch_geometric.transforms as T\n",
    "from torch_geometric.datasets import Planetoid\n",
    "from torch_geometric.nn import GCNConv\n",
    "from torch_geometric.utils import negative_sampling\n",
    "from torch_geometric.datasets import Planetoid\n",
    "from torch_geometric.transforms import NormalizeFeatures\n",
    "\n",
    "if torch.cuda.is_available():\n",
    "    device = torch.device('cuda')\n",
    "elif hasattr(torch.backends, 'mps') and torch.backends.mps.is_available():\n",
    "    device = torch.device('mps')\n",
    "else:\n",
    "    device = torch.device('cpu')\n",
    "\n",
    "print(device)\n"
   ],
   "outputs": [
    {
     "name": "stdout",
     "output_type": "stream",
     "text": [
      "cpu\n"
     ]
    }
   ],
   "execution_count": 3
  },
  {
   "metadata": {},
   "cell_type": "markdown",
   "source": "# 数据",
   "id": "2ffe3b978bd1935e"
  },
  {
   "metadata": {
    "ExecuteTime": {
     "end_time": "2025-10-06T08:21:11.724395Z",
     "start_time": "2025-10-06T08:19:55.942676Z"
    }
   },
   "cell_type": "code",
   "source": [
    "transform = T.Compose([\n",
    "    T.NormalizeFeatures(),\n",
    "    T.ToDevice(device),\n",
    "    T.RandomLinkSplit(num_val=0.05, num_test=0.1, is_undirected=True,\n",
    "                      add_negative_train_samples=False),\n",
    "])\n",
    "\n",
    "dataset = Planetoid(root='data/Planetoid', name='Cora', transform=transform)\n",
    "# After applying the `RandomLinkSplit` transform, the data is transformed from\n",
    "# a data object to a list of tuples (train_data, val_data, test_data), with\n",
    "# each element representing the corresponding split.\n",
    "train_data, val_data, test_data = dataset[0]"
   ],
   "id": "ad759ab68b7af46b",
   "outputs": [
    {
     "name": "stderr",
     "output_type": "stream",
     "text": [
      "Downloading https://github.com/kimiyoung/planetoid/raw/master/data/ind.cora.x\n",
      "Downloading https://github.com/kimiyoung/planetoid/raw/master/data/ind.cora.tx\n",
      "Downloading https://github.com/kimiyoung/planetoid/raw/master/data/ind.cora.allx\n",
      "Downloading https://github.com/kimiyoung/planetoid/raw/master/data/ind.cora.y\n",
      "Downloading https://github.com/kimiyoung/planetoid/raw/master/data/ind.cora.ty\n",
      "Downloading https://github.com/kimiyoung/planetoid/raw/master/data/ind.cora.ally\n",
      "Downloading https://github.com/kimiyoung/planetoid/raw/master/data/ind.cora.graph\n",
      "Downloading https://github.com/kimiyoung/planetoid/raw/master/data/ind.cora.test.index\n",
      "Processing...\n",
      "Done!\n"
     ]
    }
   ],
   "execution_count": 9
  },
  {
   "metadata": {},
   "cell_type": "markdown",
   "source": "# 模型",
   "id": "5295d9a8fbf44a5c"
  },
  {
   "metadata": {
    "ExecuteTime": {
     "end_time": "2025-10-06T08:23:05.329205Z",
     "start_time": "2025-10-06T08:23:05.325605Z"
    }
   },
   "cell_type": "code",
   "source": [
    "class Net(torch.nn.Module):\n",
    "    def __init__(self, in_channels, hidden_channels, out_channels):\n",
    "        super().__init__()\n",
    "        self.conv1 = GCNConv(in_channels, hidden_channels)\n",
    "        self.conv2 = GCNConv(hidden_channels, out_channels)\n",
    "\n",
    "    def encode(self, x, edge_index):\n",
    "        x = self.conv1(x, edge_index).relu()\n",
    "        return self.conv2(x, edge_index)\n",
    "\n",
    "    def decode(self, z, edge_label_index):\n",
    "        return (z[edge_label_index[0]] * z[edge_label_index[1]]).sum(dim=-1)\n",
    "\n",
    "    def decode_all(self, z):\n",
    "        prob_adj = z @ z.t()\n",
    "        return (prob_adj > 0).nonzero(as_tuple=False).t()"
   ],
   "id": "377368546f3b7b72",
   "outputs": [],
   "execution_count": 13
  },
  {
   "metadata": {},
   "cell_type": "markdown",
   "source": "# 训练",
   "id": "4bc9431bd4e5e035"
  },
  {
   "metadata": {
    "ExecuteTime": {
     "end_time": "2025-10-06T08:23:12.223475Z",
     "start_time": "2025-10-06T08:23:12.184130Z"
    }
   },
   "cell_type": "code",
   "source": [
    "model = Net(dataset.num_features, 128, 64).to(device)\n",
    "optimizer = torch.optim.Adam(params=model.parameters(), lr=0.01)\n",
    "criterion = torch.nn.BCEWithLogitsLoss()\n",
    "\n",
    "def train():\n",
    "    model.train()\n",
    "    optimizer.zero_grad()\n",
    "    z = model.encode(train_data.x, train_data.edge_index)\n",
    "\n",
    "    # We perform a new round of negative sampling for every training epoch:\n",
    "    neg_edge_index = negative_sampling(\n",
    "        edge_index=train_data.edge_index, num_nodes=train_data.num_nodes,\n",
    "        num_neg_samples=train_data.edge_label_index.size(1), method='sparse')\n",
    "\n",
    "    edge_label_index = torch.cat(\n",
    "        [train_data.edge_label_index, neg_edge_index],\n",
    "        dim=-1,\n",
    "    )\n",
    "    edge_label = torch.cat([\n",
    "        train_data.edge_label,\n",
    "        train_data.edge_label.new_zeros(neg_edge_index.size(1))\n",
    "    ], dim=0)\n",
    "\n",
    "    out = model.decode(z, edge_label_index).view(-1)\n",
    "    loss = criterion(out, edge_label)\n",
    "    loss.backward()\n",
    "    optimizer.step()\n",
    "    return loss"
   ],
   "id": "948d2b23272b1da4",
   "outputs": [],
   "execution_count": 14
  },
  {
   "metadata": {},
   "cell_type": "markdown",
   "source": "# 测试",
   "id": "759da6c5a455f879"
  },
  {
   "metadata": {
    "ExecuteTime": {
     "end_time": "2025-10-06T08:43:37.411529Z",
     "start_time": "2025-10-06T08:43:34.329379Z"
    }
   },
   "cell_type": "code",
   "source": [
    "@torch.no_grad()\n",
    "def test(data):\n",
    "    model.eval()\n",
    "    z = model.encode(data.x, data.edge_index)\n",
    "    out = model.decode(z, data.edge_label_index).view(-1).sigmoid()\n",
    "    return roc_auc_score(data.edge_label.cpu().numpy(), out.cpu().numpy())\n",
    "\n",
    "\n",
    "best_val_auc = final_test_auc = 0\n",
    "for epoch in range(1, 101):\n",
    "    loss = train()\n",
    "    val_auc = test(val_data)\n",
    "    test_auc = test(test_data)\n",
    "    if val_auc > best_val_auc:\n",
    "        best_val_auc = val_auc\n",
    "        final_test_auc = test_auc\n",
    "    print(f'Epoch: {epoch:03d}, Loss: {loss:.4f}, Val: {val_auc:.4f}, '\n",
    "          f'Test: {test_auc:.4f}')\n",
    "\n",
    "print(f'Final Test: {final_test_auc:.4f}')\n",
    "\n",
    "z = model.encode(test_data.x, test_data.edge_index)\n",
    "final_edge_index = model.decode_all(z)\n",
    "print(z)\n",
    "print(final_edge_index)"
   ],
   "id": "26cdf63326c92242",
   "outputs": [
    {
     "name": "stdout",
     "output_type": "stream",
     "text": [
      "Epoch: 001, Loss: 0.4457, Val: 0.9020, Test: 0.8953\n",
      "Epoch: 002, Loss: 0.4450, Val: 0.9023, Test: 0.8950\n",
      "Epoch: 003, Loss: 0.4421, Val: 0.9019, Test: 0.8948\n",
      "Epoch: 004, Loss: 0.4478, Val: 0.9018, Test: 0.8965\n",
      "Epoch: 005, Loss: 0.4454, Val: 0.9018, Test: 0.8978\n",
      "Epoch: 006, Loss: 0.4414, Val: 0.9034, Test: 0.9000\n",
      "Epoch: 007, Loss: 0.4359, Val: 0.9041, Test: 0.9011\n",
      "Epoch: 008, Loss: 0.4411, Val: 0.9037, Test: 0.9012\n",
      "Epoch: 009, Loss: 0.4409, Val: 0.9025, Test: 0.9013\n",
      "Epoch: 010, Loss: 0.4410, Val: 0.9034, Test: 0.9023\n",
      "Epoch: 011, Loss: 0.4341, Val: 0.9045, Test: 0.9039\n",
      "Epoch: 012, Loss: 0.4315, Val: 0.9042, Test: 0.9053\n",
      "Epoch: 013, Loss: 0.4442, Val: 0.9025, Test: 0.9055\n",
      "Epoch: 014, Loss: 0.4338, Val: 0.9015, Test: 0.9055\n",
      "Epoch: 015, Loss: 0.4339, Val: 0.9024, Test: 0.9062\n",
      "Epoch: 016, Loss: 0.4413, Val: 0.9024, Test: 0.9065\n",
      "Epoch: 017, Loss: 0.4295, Val: 0.9035, Test: 0.9074\n",
      "Epoch: 018, Loss: 0.4359, Val: 0.9029, Test: 0.9074\n",
      "Epoch: 019, Loss: 0.4403, Val: 0.9023, Test: 0.9074\n",
      "Epoch: 020, Loss: 0.4347, Val: 0.8999, Test: 0.9058\n",
      "Epoch: 021, Loss: 0.4358, Val: 0.8980, Test: 0.9047\n",
      "Epoch: 022, Loss: 0.4340, Val: 0.9001, Test: 0.9054\n",
      "Epoch: 023, Loss: 0.4302, Val: 0.9026, Test: 0.9062\n",
      "Epoch: 024, Loss: 0.4348, Val: 0.9021, Test: 0.9054\n",
      "Epoch: 025, Loss: 0.4363, Val: 0.9002, Test: 0.9042\n",
      "Epoch: 026, Loss: 0.4370, Val: 0.8962, Test: 0.9017\n",
      "Epoch: 027, Loss: 0.4374, Val: 0.8962, Test: 0.9020\n",
      "Epoch: 028, Loss: 0.4358, Val: 0.8992, Test: 0.9035\n",
      "Epoch: 029, Loss: 0.4344, Val: 0.9002, Test: 0.9043\n",
      "Epoch: 030, Loss: 0.4397, Val: 0.8986, Test: 0.9038\n",
      "Epoch: 031, Loss: 0.4351, Val: 0.8955, Test: 0.9023\n",
      "Epoch: 032, Loss: 0.4304, Val: 0.8946, Test: 0.9021\n",
      "Epoch: 033, Loss: 0.4310, Val: 0.8974, Test: 0.9046\n",
      "Epoch: 034, Loss: 0.4316, Val: 0.8992, Test: 0.9067\n",
      "Epoch: 035, Loss: 0.4332, Val: 0.8978, Test: 0.9063\n",
      "Epoch: 036, Loss: 0.4303, Val: 0.8960, Test: 0.9054\n",
      "Epoch: 037, Loss: 0.4289, Val: 0.8969, Test: 0.9059\n",
      "Epoch: 038, Loss: 0.4306, Val: 0.8990, Test: 0.9072\n",
      "Epoch: 039, Loss: 0.4262, Val: 0.8974, Test: 0.9072\n",
      "Epoch: 040, Loss: 0.4357, Val: 0.8946, Test: 0.9059\n",
      "Epoch: 041, Loss: 0.4268, Val: 0.8963, Test: 0.9066\n",
      "Epoch: 042, Loss: 0.4278, Val: 0.8990, Test: 0.9077\n",
      "Epoch: 043, Loss: 0.4256, Val: 0.9004, Test: 0.9083\n",
      "Epoch: 044, Loss: 0.4295, Val: 0.8979, Test: 0.9073\n",
      "Epoch: 045, Loss: 0.4309, Val: 0.8949, Test: 0.9061\n",
      "Epoch: 046, Loss: 0.4288, Val: 0.8962, Test: 0.9074\n",
      "Epoch: 047, Loss: 0.4254, Val: 0.8996, Test: 0.9081\n",
      "Epoch: 048, Loss: 0.4368, Val: 0.8999, Test: 0.9077\n",
      "Epoch: 049, Loss: 0.4289, Val: 0.8989, Test: 0.9068\n",
      "Epoch: 050, Loss: 0.4266, Val: 0.8973, Test: 0.9064\n",
      "Epoch: 051, Loss: 0.4252, Val: 0.8980, Test: 0.9069\n",
      "Epoch: 052, Loss: 0.4248, Val: 0.8998, Test: 0.9073\n",
      "Epoch: 053, Loss: 0.4197, Val: 0.9006, Test: 0.9072\n",
      "Epoch: 054, Loss: 0.4282, Val: 0.9013, Test: 0.9070\n",
      "Epoch: 055, Loss: 0.4299, Val: 0.9009, Test: 0.9073\n",
      "Epoch: 056, Loss: 0.4273, Val: 0.8996, Test: 0.9067\n",
      "Epoch: 057, Loss: 0.4243, Val: 0.8990, Test: 0.9065\n",
      "Epoch: 058, Loss: 0.4205, Val: 0.8999, Test: 0.9065\n",
      "Epoch: 059, Loss: 0.4234, Val: 0.9011, Test: 0.9061\n",
      "Epoch: 060, Loss: 0.4346, Val: 0.9014, Test: 0.9054\n",
      "Epoch: 061, Loss: 0.4226, Val: 0.9001, Test: 0.9047\n",
      "Epoch: 062, Loss: 0.4239, Val: 0.9002, Test: 0.9055\n",
      "Epoch: 063, Loss: 0.4239, Val: 0.9012, Test: 0.9056\n",
      "Epoch: 064, Loss: 0.4198, Val: 0.9022, Test: 0.9055\n",
      "Epoch: 065, Loss: 0.4213, Val: 0.9023, Test: 0.9051\n",
      "Epoch: 066, Loss: 0.4228, Val: 0.9016, Test: 0.9051\n",
      "Epoch: 067, Loss: 0.4215, Val: 0.9015, Test: 0.9051\n",
      "Epoch: 068, Loss: 0.4227, Val: 0.9021, Test: 0.9063\n",
      "Epoch: 069, Loss: 0.4255, Val: 0.9036, Test: 0.9074\n",
      "Epoch: 070, Loss: 0.4209, Val: 0.9034, Test: 0.9074\n",
      "Epoch: 071, Loss: 0.4187, Val: 0.9026, Test: 0.9068\n",
      "Epoch: 072, Loss: 0.4207, Val: 0.9010, Test: 0.9067\n",
      "Epoch: 073, Loss: 0.4228, Val: 0.9015, Test: 0.9078\n",
      "Epoch: 074, Loss: 0.4190, Val: 0.9033, Test: 0.9100\n",
      "Epoch: 075, Loss: 0.4224, Val: 0.9039, Test: 0.9108\n",
      "Epoch: 076, Loss: 0.4204, Val: 0.9037, Test: 0.9106\n",
      "Epoch: 077, Loss: 0.4200, Val: 0.9022, Test: 0.9096\n",
      "Epoch: 078, Loss: 0.4241, Val: 0.9018, Test: 0.9098\n",
      "Epoch: 079, Loss: 0.4224, Val: 0.9035, Test: 0.9111\n",
      "Epoch: 080, Loss: 0.4271, Val: 0.9043, Test: 0.9120\n",
      "Epoch: 081, Loss: 0.4212, Val: 0.9042, Test: 0.9121\n",
      "Epoch: 082, Loss: 0.4164, Val: 0.9027, Test: 0.9107\n",
      "Epoch: 083, Loss: 0.4223, Val: 0.9018, Test: 0.9094\n",
      "Epoch: 084, Loss: 0.4209, Val: 0.9027, Test: 0.9103\n",
      "Epoch: 085, Loss: 0.4252, Val: 0.9028, Test: 0.9117\n",
      "Epoch: 086, Loss: 0.4236, Val: 0.9027, Test: 0.9117\n",
      "Epoch: 087, Loss: 0.4142, Val: 0.9024, Test: 0.9111\n",
      "Epoch: 088, Loss: 0.4181, Val: 0.9023, Test: 0.9105\n",
      "Epoch: 089, Loss: 0.4203, Val: 0.9032, Test: 0.9120\n",
      "Epoch: 090, Loss: 0.4226, Val: 0.9041, Test: 0.9132\n",
      "Epoch: 091, Loss: 0.4165, Val: 0.9039, Test: 0.9129\n",
      "Epoch: 092, Loss: 0.4222, Val: 0.9035, Test: 0.9123\n",
      "Epoch: 093, Loss: 0.4163, Val: 0.9041, Test: 0.9128\n",
      "Epoch: 094, Loss: 0.4204, Val: 0.9046, Test: 0.9126\n",
      "Epoch: 095, Loss: 0.4251, Val: 0.9059, Test: 0.9125\n",
      "Epoch: 096, Loss: 0.4230, Val: 0.9065, Test: 0.9123\n",
      "Epoch: 097, Loss: 0.4251, Val: 0.9064, Test: 0.9116\n",
      "Epoch: 098, Loss: 0.4217, Val: 0.9069, Test: 0.9122\n",
      "Epoch: 099, Loss: 0.4195, Val: 0.9063, Test: 0.9128\n",
      "Epoch: 100, Loss: 0.4136, Val: 0.9070, Test: 0.9125\n",
      "Final Test: 0.9125\n",
      "tensor([[ 0.0179, -0.2788,  0.1257,  ...,  0.2685, -0.2206, -0.0385],\n",
      "        [-0.0681,  0.3563, -0.4635,  ..., -0.0214,  0.0790, -0.0141],\n",
      "        [ 0.0077,  0.1041, -0.3025,  ...,  0.0313, -0.0960, -0.0305],\n",
      "        ...,\n",
      "        [ 0.0421, -0.0538, -0.0340,  ...,  0.0543,  0.0378, -0.0151],\n",
      "        [ 0.1621, -0.1574,  0.1570,  ...,  0.0872, -0.2442, -0.1771],\n",
      "        [ 0.1670, -0.1623,  0.2077,  ...,  0.0469, -0.2747, -0.1538]],\n",
      "       grad_fn=<AddBackward0>)\n",
      "tensor([[   0,    0,    0,  ..., 2707, 2707, 2707],\n",
      "        [   0,    2,    4,  ..., 2705, 2706, 2707]])\n"
     ]
    }
   ],
   "execution_count": 16
  }
 ],
 "metadata": {
  "kernelspec": {
   "display_name": "Python 3",
   "language": "python",
   "name": "python3"
  },
  "language_info": {
   "codemirror_mode": {
    "name": "ipython",
    "version": 2
   },
   "file_extension": ".py",
   "mimetype": "text/x-python",
   "name": "python",
   "nbconvert_exporter": "python",
   "pygments_lexer": "ipython2",
   "version": "2.7.6"
  }
 },
 "nbformat": 4,
 "nbformat_minor": 5
}
